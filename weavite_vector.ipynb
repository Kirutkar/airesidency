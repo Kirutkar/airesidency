{
  "cells": [
    {
      "cell_type": "markdown",
      "metadata": {
        "id": "view-in-github",
        "colab_type": "text"
      },
      "source": [
        "<a href=\"https://colab.research.google.com/github/Kirutkar/airesidency/blob/main/weavite_vector.ipynb\" target=\"_parent\"><img src=\"https://colab.research.google.com/assets/colab-badge.svg\" alt=\"Open In Colab\"/></a>"
      ]
    },
    {
      "cell_type": "markdown",
      "metadata": {
        "id": "6gVTvuuckMtP"
      },
      "source": [
        "## Weaviate quickstart guide (as a notebook!)\n",
        "\n",
        "This notebook will guide you through the basics of Weaviate. You can find the full documentation [on our site here](https://weaviate.io/developers/weaviate/quickstart).\n",
        "\n",
        "<a target=\"_blank\" href=\"https://colab.research.google.com/github/weaviate-tutorials/quickstart/blob/main/quickstart_end_to_end.ipynb\">\n",
        "  <img src=\"https://colab.research.google.com/assets/colab-badge.svg\" alt=\"Open In Colab\"/>\n",
        "</a>"
      ]
    },
    {
      "cell_type": "markdown",
      "source": [],
      "metadata": {
        "id": "jgIZBZZDpeb-"
      }
    },
    {
      "cell_type": "markdown",
      "metadata": {
        "id": "NhV90rankMtQ"
      },
      "source": [
        "You will need the Weaviate Python client. If you don't yet have it installed - you can do so with:"
      ]
    },
    {
      "cell_type": "code",
      "execution_count": null,
      "metadata": {
        "id": "BRWhefPukMtR",
        "collapsed": true
      },
      "outputs": [],
      "source": [
        "pip install \"weaviate-client>=3.26.7,<4.0.0\""
      ]
    },
    {
      "cell_type": "markdown",
      "metadata": {
        "id": "k5_3E4LKkMtR"
      },
      "source": [
        "### Weaviate instance\n",
        "\n",
        "For this, you will need a working instance of Weaviate somewhere. We recommend either:\n",
        "- Creating a free sandbox instance on Weaviate Cloud Services (https://console.weaviate.cloud/), or\n",
        "- Using [Embedded Weaviate](https://weaviate.io/developers/weaviate/installation/embedded).\n",
        "\n",
        "Instantiate the client using **one** of the following code examples:"
      ]
    },
    {
      "cell_type": "markdown",
      "metadata": {
        "id": "SI7LBw5skMtS"
      },
      "source": [
        "#### For using WCS\n",
        "\n",
        "NOTE: Before you do this, you need to create the instance in WCS and get the credentials. Please refer to the [WCS Quickstart guide](https://weaviate.io/developers/wcs/quickstart)."
      ]
    },
    {
      "cell_type": "markdown",
      "metadata": {
        "id": "IX7VeS5hkMtS"
      },
      "source": [
        "#### For using Embedded Weaviate\n",
        "\n",
        "This will spin up a Weaviate instance in the background."
      ]
    },
    {
      "cell_type": "code",
      "source": [
        "pip install openai==0.28"
      ],
      "metadata": {
        "id": "8XAbMJgvlJze",
        "outputId": "b1412352-4419-4a91-b752-b3acf5d71d2a",
        "colab": {
          "base_uri": "https://localhost:8080/"
        },
        "collapsed": true
      },
      "execution_count": null,
      "outputs": [
        {
          "output_type": "stream",
          "name": "stdout",
          "text": [
            "Collecting openai==0.28\n",
            "  Downloading openai-0.28.0-py3-none-any.whl.metadata (13 kB)\n",
            "Requirement already satisfied: requests>=2.20 in /usr/local/lib/python3.11/dist-packages (from openai==0.28) (2.32.3)\n",
            "Requirement already satisfied: tqdm in /usr/local/lib/python3.11/dist-packages (from openai==0.28) (4.67.1)\n",
            "Requirement already satisfied: aiohttp in /usr/local/lib/python3.11/dist-packages (from openai==0.28) (3.11.15)\n",
            "Requirement already satisfied: charset-normalizer<4,>=2 in /usr/local/lib/python3.11/dist-packages (from requests>=2.20->openai==0.28) (3.4.2)\n",
            "Requirement already satisfied: idna<4,>=2.5 in /usr/local/lib/python3.11/dist-packages (from requests>=2.20->openai==0.28) (3.10)\n",
            "Requirement already satisfied: urllib3<3,>=1.21.1 in /usr/local/lib/python3.11/dist-packages (from requests>=2.20->openai==0.28) (2.4.0)\n",
            "Requirement already satisfied: certifi>=2017.4.17 in /usr/local/lib/python3.11/dist-packages (from requests>=2.20->openai==0.28) (2025.4.26)\n",
            "Requirement already satisfied: aiohappyeyeballs>=2.3.0 in /usr/local/lib/python3.11/dist-packages (from aiohttp->openai==0.28) (2.6.1)\n",
            "Requirement already satisfied: aiosignal>=1.1.2 in /usr/local/lib/python3.11/dist-packages (from aiohttp->openai==0.28) (1.3.2)\n",
            "Requirement already satisfied: attrs>=17.3.0 in /usr/local/lib/python3.11/dist-packages (from aiohttp->openai==0.28) (25.3.0)\n",
            "Requirement already satisfied: frozenlist>=1.1.1 in /usr/local/lib/python3.11/dist-packages (from aiohttp->openai==0.28) (1.6.0)\n",
            "Requirement already satisfied: multidict<7.0,>=4.5 in /usr/local/lib/python3.11/dist-packages (from aiohttp->openai==0.28) (6.4.4)\n",
            "Requirement already satisfied: propcache>=0.2.0 in /usr/local/lib/python3.11/dist-packages (from aiohttp->openai==0.28) (0.3.1)\n",
            "Requirement already satisfied: yarl<2.0,>=1.17.0 in /usr/local/lib/python3.11/dist-packages (from aiohttp->openai==0.28) (1.20.0)\n",
            "Downloading openai-0.28.0-py3-none-any.whl (76 kB)\n",
            "\u001b[2K   \u001b[90m━━━━━━━━━━━━━━━━━━━━━━━━━━━━━━━━━━━━━━━━\u001b[0m \u001b[32m76.5/76.5 kB\u001b[0m \u001b[31m2.3 MB/s\u001b[0m eta \u001b[36m0:00:00\u001b[0m\n",
            "\u001b[?25hInstalling collected packages: openai\n",
            "  Attempting uninstall: openai\n",
            "    Found existing installation: openai 1.84.0\n",
            "    Uninstalling openai-1.84.0:\n",
            "      Successfully uninstalled openai-1.84.0\n",
            "Successfully installed openai-0.28.0\n"
          ]
        }
      ]
    },
    {
      "cell_type": "code",
      "source": [
        "import openai\n",
        "from google.colab import userdata  # Secure way to handle secrets\n",
        "\n",
        "# Fetch the secret key from Colab's secure storage\n",
        "openai.api_key = userdata.get(\"openai\")\n",
        "\n",
        "# Now make the API call\n",
        "response = openai.ChatCompletion.create(\n",
        "    model=\"gpt-3.5-turbo\",\n",
        "    messages=[\n",
        "        {\"role\": \"user\", \"content\": \"Hello ChatGPT, does this work?\"}\n",
        "    ]\n",
        ")\n",
        "\n",
        "print(response.choices[0].message['content'])\n"
      ],
      "metadata": {
        "colab": {
          "base_uri": "https://localhost:8080/"
        },
        "id": "vE79lCnmtFQJ",
        "outputId": "135e7b02-ea2f-4847-9e90-0253bdd4daf4"
      },
      "execution_count": null,
      "outputs": [
        {
          "output_type": "stream",
          "name": "stdout",
          "text": [
            "Hello! Yes, it seems that everything is working fine. How can I assist you today?\n"
          ]
        }
      ]
    },
    {
      "cell_type": "code",
      "source": [
        "OPENAI_APIKEY = openai.api_key"
      ],
      "metadata": {
        "id": "EDxC8qvrmGZa"
      },
      "execution_count": null,
      "outputs": []
    },
    {
      "cell_type": "code",
      "execution_count": null,
      "metadata": {
        "id": "3UiFHs_CkMtS",
        "outputId": "48a04064-87ec-4d87-8be4-7fdab8c98d0b",
        "colab": {
          "base_uri": "https://localhost:8080/"
        }
      },
      "outputs": [
        {
          "output_type": "stream",
          "name": "stdout",
          "text": [
            "Binary /root/.cache/weaviate-embedded did not exist. Downloading binary from https://github.com/weaviate/weaviate/releases/download/v1.23.0/weaviate-v1.23.0-Linux-amd64.tar.gz\n",
            "Started /root/.cache/weaviate-embedded: process ID 1294\n"
          ]
        }
      ],
      "source": [
        "# For using embedded\n",
        "import weaviate\n",
        "from weaviate.embedded import EmbeddedOptions\n",
        "import json\n",
        "import os\n",
        "\n",
        "client = weaviate.Client(\n",
        "    embedded_options=EmbeddedOptions(),\n",
        "    additional_headers = {\n",
        "        \"X-OpenAI-Api-Key\": openai.api_key # Replace with your inference API key\n",
        "    }\n",
        ")"
      ]
    },
    {
      "cell_type": "markdown",
      "metadata": {
        "id": "Utlr1RZnkMtT"
      },
      "source": [
        "### Create a class"
      ]
    },
    {
      "cell_type": "code",
      "execution_count": null,
      "metadata": {
        "id": "pLFLqTKnkMtT"
      },
      "outputs": [],
      "source": [
        "if client.schema.exists(\"Question\"):\n",
        "    client.schema.delete_class(\"Question\")"
      ]
    },
    {
      "cell_type": "code",
      "execution_count": null,
      "metadata": {
        "id": "VQhTCWSTkMtT"
      },
      "outputs": [],
      "source": [
        "class_obj = {\n",
        "    \"class\": \"Question\",\n",
        "    \"vectorizer\": \"text2vec-openai\",\n",
        "    \"moduleConfig\": {\n",
        "        \"text2vec-openai\": {},\n",
        "        \"generative-openai\": {}\n",
        "    }\n",
        "}\n",
        "\n",
        "client.schema.create_class(class_obj)"
      ]
    },
    {
      "cell_type": "code",
      "source": [
        "class_obj"
      ],
      "metadata": {
        "id": "fXClmqcrmttJ",
        "outputId": "59aae3d6-e802-4360-ccc7-20109b4610b1",
        "colab": {
          "base_uri": "https://localhost:8080/"
        }
      },
      "execution_count": null,
      "outputs": [
        {
          "output_type": "execute_result",
          "data": {
            "text/plain": [
              "{'class': 'Question',\n",
              " 'vectorizer': 'text2vec-openai',\n",
              " 'moduleConfig': {'text2vec-openai': {}, 'generative-openai': {}}}"
            ]
          },
          "metadata": {},
          "execution_count": 8
        }
      ]
    },
    {
      "cell_type": "markdown",
      "source": [],
      "metadata": {
        "id": "yJfQ-yI6N4JF"
      }
    },
    {
      "cell_type": "markdown",
      "metadata": {
        "id": "--4MxRh3kMtU"
      },
      "source": [
        "### Add objects\n",
        "\n",
        "We'll add objects to our Weaviate instance using a batch import process.\n",
        "\n",
        "We shows you two options, where you can either:\n",
        "- Have Weaviate create vectors, or\n",
        "- Specify custom vectors."
      ]
    },
    {
      "cell_type": "markdown",
      "metadata": {
        "id": "MgkxG26JkMtU"
      },
      "source": [
        "#### Have Weaviate create vectors (with `text2vec-openai`)"
      ]
    },
    {
      "cell_type": "code",
      "execution_count": null,
      "metadata": {
        "id": "gsH08hkGkMtU",
        "outputId": "9afad058-b625-4188-a8f6-81e970861947",
        "colab": {
          "base_uri": "https://localhost:8080/"
        }
      },
      "outputs": [
        {
          "output_type": "stream",
          "name": "stdout",
          "text": [
            "importing question: 1\n",
            "importing question: 2\n",
            "importing question: 3\n",
            "importing question: 4\n",
            "importing question: 5\n",
            "importing question: 6\n",
            "importing question: 7\n",
            "importing question: 8\n",
            "importing question: 9\n",
            "importing question: 10\n"
          ]
        }
      ],
      "source": [
        "# Load data\n",
        "import requests\n",
        "url = 'https://raw.githubusercontent.com/weaviate-tutorials/quickstart/main/data/jeopardy_tiny.json'\n",
        "resp = requests.get(url)\n",
        "data = json.loads(resp.text)\n",
        "\n",
        "# Configure a batch process\n",
        "with client.batch(\n",
        "    batch_size=100\n",
        ") as batch:\n",
        "    # Batch import all Questions\n",
        "    for i, d in enumerate(data):\n",
        "        print(f\"importing question: {i+1}\")\n",
        "\n",
        "        properties = {\n",
        "            \"answer\": d[\"Answer\"],\n",
        "            \"question\": d[\"Question\"],\n",
        "            \"category\": d[\"Category\"],\n",
        "        }\n",
        "\n",
        "        client.batch.add_data_object(\n",
        "            properties,\n",
        "            \"Question\",\n",
        "        )"
      ]
    },
    {
      "cell_type": "markdown",
      "source": [
        "### **Extract one questions** and get the lenght of dimensions"
      ],
      "metadata": {
        "id": "NUPFFdP1i3p1"
      }
    },
    {
      "cell_type": "code",
      "source": [
        "result = client.query.get(\"Question\", ['category', 'question', 'answer']).with_additional('vector').with_limit(1).do()\n",
        "\n"
      ],
      "metadata": {
        "id": "0U2pekQHi6V1"
      },
      "execution_count": null,
      "outputs": []
    },
    {
      "cell_type": "code",
      "source": [
        "result"
      ],
      "metadata": {
        "collapsed": true,
        "id": "dyyPZUY7ghyg",
        "colab": {
          "base_uri": "https://localhost:8080/"
        },
        "outputId": "701c96b1-59dc-47df-8384-57410899b59e"
      },
      "execution_count": null,
      "outputs": [
        {
          "output_type": "execute_result",
          "data": {
            "text/plain": [
              "{'data': {'Get': {'Question': [{'_additional': {'vector': [0.015762465,\n",
              "       -0.0069181896,\n",
              "       -0.001417541,\n",
              "       -0.027725168,\n",
              "       0.010213501,\n",
              "       0.020112539,\n",
              "       -0.019352587,\n",
              "       -0.011137237,\n",
              "       -0.019929102,\n",
              "       -0.020689055,\n",
              "       0.018553326,\n",
              "       0.017269269,\n",
              "       0.00065717887,\n",
              "       -0.02304753,\n",
              "       0.0054015596,\n",
              "       0.011720303,\n",
              "       0.01612934,\n",
              "       0.005450695,\n",
              "       0.013207452,\n",
              "       0.009047367,\n",
              "       -0.019509818,\n",
              "       0.0024583812,\n",
              "       -0.0119627025,\n",
              "       0.003034897,\n",
              "       0.017596833,\n",
              "       0.018972611,\n",
              "       0.023493018,\n",
              "       -0.025563234,\n",
              "       -0.011792368,\n",
              "       -0.013901892,\n",
              "       -0.0133843385,\n",
              "       -0.0011243696,\n",
              "       -0.008752557,\n",
              "       -0.014674948,\n",
              "       -0.04166637,\n",
              "       -0.024121944,\n",
              "       0.013928098,\n",
              "       -0.018841583,\n",
              "       0.0373425,\n",
              "       0.00084675755,\n",
              "       0.008732904,\n",
              "       0.023715762,\n",
              "       0.0025402727,\n",
              "       -0.015408695,\n",
              "       0.0067609577,\n",
              "       0.025157053,\n",
              "       0.01781958,\n",
              "       0.003599948,\n",
              "       -0.004494203,\n",
              "       0.0065906234,\n",
              "       0.0014584867,\n",
              "       0.0031462694,\n",
              "       -0.0034885756,\n",
              "       0.019614639,\n",
              "       -0.00771745,\n",
              "       -0.012002011,\n",
              "       0.0033575494,\n",
              "       0.0030529131,\n",
              "       0.027777579,\n",
              "       -0.008202247,\n",
              "       -0.0018982438,\n",
              "       0.012716104,\n",
              "       -0.026375597,\n",
              "       0.0077764117,\n",
              "       -0.02803963,\n",
              "       0.008582223,\n",
              "       0.0072457553,\n",
              "       0.0018081631,\n",
              "       -0.0006424384,\n",
              "       0.0128274765,\n",
              "       0.025930109,\n",
              "       0.0064399433,\n",
              "       -0.013535018,\n",
              "       -0.0005159161,\n",
              "       -0.0022471014,\n",
              "       -0.022982016,\n",
              "       0.017623039,\n",
              "       0.023479916,\n",
              "       -0.0072195497,\n",
              "       -0.0035966723,\n",
              "       0.017911296,\n",
              "       -0.02530118,\n",
              "       -0.027410705,\n",
              "       0.013797071,\n",
              "       0.022719963,\n",
              "       -0.001196434,\n",
              "       -0.006023935,\n",
              "       -0.0012938848,\n",
              "       -0.00055031053,\n",
              "       0.013797071,\n",
              "       -0.021069031,\n",
              "       -0.013535018,\n",
              "       0.0053458735,\n",
              "       0.007055767,\n",
              "       -0.020073231,\n",
              "       -0.018697456,\n",
              "       0.001570678,\n",
              "       0.015841082,\n",
              "       -0.021095237,\n",
              "       -0.024331586,\n",
              "       -0.01856643,\n",
              "       0.008176042,\n",
              "       0.016758265,\n",
              "       -0.0143735865,\n",
              "       0.0031823015,\n",
              "       -0.0109538,\n",
              "       0.0093028685,\n",
              "       0.035979826,\n",
              "       0.014360484,\n",
              "       -0.01185133,\n",
              "       -0.003619602,\n",
              "       0.04436551,\n",
              "       0.032180063,\n",
              "       -0.055345517,\n",
              "       -0.018645044,\n",
              "       -0.03301863,\n",
              "       0.018107837,\n",
              "       0.009394587,\n",
              "       -0.004870903,\n",
              "       -0.0023863167,\n",
              "       0.03351653,\n",
              "       0.016745163,\n",
              "       0.016601034,\n",
              "       -0.013836379,\n",
              "       0.013410543,\n",
              "       0.012748861,\n",
              "       0.008090875,\n",
              "       -0.021973113,\n",
              "       -0.018736763,\n",
              "       -0.0003914411,\n",
              "       0.019470511,\n",
              "       0.011255161,\n",
              "       0.017308576,\n",
              "       -0.010547618,\n",
              "       -0.00038898436,\n",
              "       0.015657645,\n",
              "       -0.010239706,\n",
              "       0.025825286,\n",
              "       -0.011163442,\n",
              "       -0.024829486,\n",
              "       0.0027613796,\n",
              "       0.029978821,\n",
              "       -0.0063515007,\n",
              "       -0.014897692,\n",
              "       -0.0128864385,\n",
              "       0.03700183,\n",
              "       0.027725168,\n",
              "       0.023584737,\n",
              "       0.0060141077,\n",
              "       0.017544424,\n",
              "       -0.0018736763,\n",
              "       -0.011209302,\n",
              "       0.0388362,\n",
              "       -0.0036327045,\n",
              "       -0.0016239074,\n",
              "       -0.020754568,\n",
              "       0.0034852999,\n",
              "       0.022995118,\n",
              "       -0.012716104,\n",
              "       -0.0145570235,\n",
              "       -0.009525613,\n",
              "       0.0131353885,\n",
              "       0.019038124,\n",
              "       0.020754568,\n",
              "       0.005391733,\n",
              "       0.038233478,\n",
              "       0.0069574974,\n",
              "       -0.0094273435,\n",
              "       0.022667553,\n",
              "       -0.013030567,\n",
              "       -0.018291274,\n",
              "       0.016456906,\n",
              "       0.01240164,\n",
              "       0.03805004,\n",
              "       0.0023044252,\n",
              "       0.012526115,\n",
              "       0.0037473526,\n",
              "       -0.009335625,\n",
              "       -0.0016443803,\n",
              "       -0.01966705,\n",
              "       -0.016260365,\n",
              "       0.03558675,\n",
              "       -0.0030398106,\n",
              "       0.021881394,\n",
              "       -0.03713286,\n",
              "       -0.026126647,\n",
              "       -0.0070230104,\n",
              "       -0.0089622,\n",
              "       0.007796066,\n",
              "       -0.0073571275,\n",
              "       0.034957822,\n",
              "       0.015814876,\n",
              "       0.0010875184,\n",
              "       -0.018710557,\n",
              "       -0.63563484,\n",
              "       -0.02464605,\n",
              "       0.027777579,\n",
              "       0.020702157,\n",
              "       0.022562731,\n",
              "       -0.0194181,\n",
              "       -0.005283636,\n",
              "       0.006230301,\n",
              "       -0.020387694,\n",
              "       0.0011047156,\n",
              "       -0.017596833,\n",
              "       0.01010868,\n",
              "       0.004746428,\n",
              "       0.006701996,\n",
              "       -0.010626234,\n",
              "       -0.02509154,\n",
              "       0.008877032,\n",
              "       0.006701996,\n",
              "       -0.013056772,\n",
              "       -0.021344187,\n",
              "       -0.023283375,\n",
              "       0.009315971,\n",
              "       0.010095578,\n",
              "       0.007350576,\n",
              "       0.005427765,\n",
              "       0.0070688697,\n",
              "       0.015081129,\n",
              "       0.0043042144,\n",
              "       -0.008457748,\n",
              "       0.02853753,\n",
              "       -0.012381987,\n",
              "       0.019955307,\n",
              "       -0.021973113,\n",
              "       -0.009702499,\n",
              "       0.035822593,\n",
              "       -0.0219076,\n",
              "       -0.002143918,\n",
              "       0.02644111,\n",
              "       0.0035180566,\n",
              "       0.032337293,\n",
              "       0.010069372,\n",
              "       -0.020125642,\n",
              "       0.01881538,\n",
              "       -0.035691567,\n",
              "       0.022497218,\n",
              "       0.002671299,\n",
              "       0.013548121,\n",
              "       0.00595187,\n",
              "       0.008143285,\n",
              "       -0.020675952,\n",
              "       -0.007016459,\n",
              "       0.020846287,\n",
              "       -0.019142944,\n",
              "       -0.0026057858,\n",
              "       -0.008090875,\n",
              "       -0.00921115,\n",
              "       0.040303696,\n",
              "       -0.0016460181,\n",
              "       0.0070819724,\n",
              "       -0.009794217,\n",
              "       -0.002232361,\n",
              "       0.008045016,\n",
              "       -0.00505434,\n",
              "       -0.010213501,\n",
              "       -0.011969253,\n",
              "       0.0015354647,\n",
              "       0.0041109505,\n",
              "       0.042007037,\n",
              "       -0.00488073,\n",
              "       -0.0073964354,\n",
              "       0.02853753,\n",
              "       0.019916,\n",
              "       0.005149334,\n",
              "       -0.0020521996,\n",
              "       0.013266414,\n",
              "       0.02066285,\n",
              "       0.008071221,\n",
              "       -0.036320493,\n",
              "       -0.014937,\n",
              "       0.020820081,\n",
              "       0.008536364,\n",
              "       0.00017043657,\n",
              "       -0.022353088,\n",
              "       0.015041821,\n",
              "       0.012722655,\n",
              "       -0.021671753,\n",
              "       0.0002079019,\n",
              "       0.0017803201,\n",
              "       0.009604229,\n",
              "       0.02101662,\n",
              "       0.030345695,\n",
              "       0.029166458,\n",
              "       -0.0034525434,\n",
              "       -0.016941702,\n",
              "       -0.0070623183,\n",
              "       0.015552823,\n",
              "       -0.014910795,\n",
              "       -0.012617834,\n",
              "       0.004720223,\n",
              "       -0.0073702303,\n",
              "       -0.0154349,\n",
              "       -0.024462612,\n",
              "       0.020859389,\n",
              "       -0.032153856,\n",
              "       0.039438922,\n",
              "       0.017256165,\n",
              "       -0.026703162,\n",
              "       0.011386187,\n",
              "       0.0368446,\n",
              "       -0.011890638,\n",
              "       -0.010822774,\n",
              "       -0.0059846267,\n",
              "       -0.018147144,\n",
              "       0.003303501,\n",
              "       0.013875687,\n",
              "       -0.025170155,\n",
              "       0.0013569413,\n",
              "       0.019077431,\n",
              "       0.02384679,\n",
              "       -0.019260868,\n",
              "       0.032677963,\n",
              "       0.015762465,\n",
              "       0.015094232,\n",
              "       -0.0005355701,\n",
              "       0.0018687628,\n",
              "       0.0353509,\n",
              "       -0.014412895,\n",
              "       -0.0333593,\n",
              "       -0.012139588,\n",
              "       0.014688049,\n",
              "       -0.017911296,\n",
              "       -0.0015158107,\n",
              "       0.01588039,\n",
              "       -0.010115231,\n",
              "       0.011438597,\n",
              "       0.021671753,\n",
              "       0.031708367,\n",
              "       0.0001273412,\n",
              "       0.007475051,\n",
              "       0.008614981,\n",
              "       -0.014753563,\n",
              "       -0.017518219,\n",
              "       0.0032789335,\n",
              "       -0.041954625,\n",
              "       -0.016443802,\n",
              "       -0.03605844,\n",
              "       -0.010089026,\n",
              "       0.0013782331,\n",
              "       -0.027201062,\n",
              "       -0.0194181,\n",
              "       0.0041535343,\n",
              "       -0.022641348,\n",
              "       -0.022719963,\n",
              "       -0.0032478147,\n",
              "       0.011595828,\n",
              "       0.0025599266,\n",
              "       -0.017452706,\n",
              "       -0.005991178,\n",
              "       0.0030774805,\n",
              "       -0.007258858,\n",
              "       0.022942707,\n",
              "       0.010423143,\n",
              "       -0.039019637,\n",
              "       0.0044155866,\n",
              "       0.002566478,\n",
              "       -0.024855692,\n",
              "       0.0019326381,\n",
              "       -0.005273809,\n",
              "       -0.03451233,\n",
              "       -0.05159816,\n",
              "       0.0027515525,\n",
              "       -0.02121316,\n",
              "       0.005162437,\n",
              "       0.024528125,\n",
              "       -0.006964049,\n",
              "       -0.016653445,\n",
              "       -0.0104559,\n",
              "       -0.022418603,\n",
              "       -0.008208798,\n",
              "       0.014688049,\n",
              "       0.0062073716,\n",
              "       0.035927415,\n",
              "       -0.006063243,\n",
              "       -0.0123950895,\n",
              "       0.030240873,\n",
              "       -0.004615402,\n",
              "       0.013521915,\n",
              "       0.044942025,\n",
              "       -0.01767545,\n",
              "       0.044784795,\n",
              "       -0.01956223,\n",
              "       0.009630434,\n",
              "       -0.017216858,\n",
              "       0.002518981,\n",
              "       0.007946746,\n",
              "       -0.0071933446,\n",
              "       0.020675952,\n",
              "       0.03579639,\n",
              "       0.021082135,\n",
              "       0.021540726,\n",
              "       0.0015649456,\n",
              "       -0.0053196684,\n",
              "       0.00023420954,\n",
              "       0.005532586,\n",
              "       0.019156048,\n",
              "       -0.004356625,\n",
              "       -0.0024665704,\n",
              "       -0.020322181,\n",
              "       0.025209462,\n",
              "       0.013914995,\n",
              "       0.015356284,\n",
              "       -0.029742973,\n",
              "       -0.007029562,\n",
              "       0.0050117564,\n",
              "       0.019640844,\n",
              "       0.018212657,\n",
              "       0.006453046,\n",
              "       -0.0062368526,\n",
              "       0.010265912,\n",
              "       0.0023781275,\n",
              "       0.0031954043,\n",
              "       -0.038076248,\n",
              "       0.01667965,\n",
              "       -0.010632785,\n",
              "       -0.021868292,\n",
              "       0.013102631,\n",
              "       0.007304717,\n",
              "       0.053458735,\n",
              "       -0.03042431,\n",
              "       -0.04166637,\n",
              "       -0.010816222,\n",
              "       -0.011065172,\n",
              "       -0.007475051,\n",
              "       0.013744661,\n",
              "       0.011065172,\n",
              "       -0.0033067765,\n",
              "       0.017203756,\n",
              "       -0.015028718,\n",
              "       0.019837383,\n",
              "       -0.016260365,\n",
              "       0.0066004507,\n",
              "       0.014006713,\n",
              "       0.03225868,\n",
              "       0.0041535343,\n",
              "       0.025537029,\n",
              "       0.009414241,\n",
              "       0.009597678,\n",
              "       0.013181247,\n",
              "       0.010167642,\n",
              "       0.011025865,\n",
              "       0.03456474,\n",
              "       0.0065906234,\n",
              "       0.0064202896,\n",
              "       -0.01703342,\n",
              "       -0.003244539,\n",
              "       -0.013331927,\n",
              "       -0.0006260601,\n",
              "       0.015290771,\n",
              "       0.017465807,\n",
              "       0.036661163,\n",
              "       0.0073571275,\n",
              "       -0.0057225744,\n",
              "       0.005581721,\n",
              "       0.0038718276,\n",
              "       0.0328614,\n",
              "       -0.01573626,\n",
              "       -0.01831748,\n",
              "       -0.0034918513,\n",
              "       0.016732061,\n",
              "       0.015330079,\n",
              "       -0.014360484,\n",
              "       -0.004988827,\n",
              "       0.008772212,\n",
              "       -0.014648742,\n",
              "       0.026768677,\n",
              "       0.015133539,\n",
              "       -0.030450515,\n",
              "       0.016194852,\n",
              "       0.010265912,\n",
              "       0.008235004,\n",
              "       0.0046776393,\n",
              "       -0.01981118,\n",
              "       0.0053196684,\n",
              "       0.01179892,\n",
              "       -0.013069875,\n",
              "       -0.020295976,\n",
              "       -0.00063998165,\n",
              "       0.014910795,\n",
              "       -0.010285566,\n",
              "       0.055345517,\n",
              "       0.03909825,\n",
              "       0.022510322,\n",
              "       0.015919697,\n",
              "       0.00069976243,\n",
              "       0.012571975,\n",
              "       -0.015919697,\n",
              "       0.035455722,\n",
              "       -0.001071959,\n",
              "       0.01906433,\n",
              "       -0.0141901495,\n",
              "       -0.0012259149,\n",
              "       -0.0098597305,\n",
              "       -0.008837725,\n",
              "       0.0034918513,\n",
              "       0.051493343,\n",
              "       -0.0029349895,\n",
              "       -0.012264063,\n",
              "       -0.048243888,\n",
              "       0.029559536,\n",
              "       0.006020659,\n",
              "       -0.017059626,\n",
              "       0.0066233804,\n",
              "       0.003963546,\n",
              "       0.0010310133,\n",
              "       -0.013024015,\n",
              "       0.009466651,\n",
              "       0.022719963,\n",
              "       0.025026025,\n",
              "       0.018514019,\n",
              "       -0.0027368122,\n",
              "       -0.02882579,\n",
              "       -0.033490326,\n",
              "       -0.017714757,\n",
              "       0.007304717,\n",
              "       0.07337473,\n",
              "       0.0018605737,\n",
              "       0.010351079,\n",
              "       0.015343182,\n",
              "       0.0056668883,\n",
              "       0.0024305382,\n",
              "       0.0027499148,\n",
              "       -0.015500413,\n",
              "       0.007809168,\n",
              "       -0.0020996968,\n",
              "       -0.0045597157,\n",
              "       -0.008418441,\n",
              "       0.009866281,\n",
              "       -0.021042826,\n",
              "       0.034381304,\n",
              "       -0.014242561,\n",
              "       -0.01304367,\n",
              "       -0.014740461,\n",
              "       0.031341493,\n",
              "       0.007612629,\n",
              "       0.020584235,\n",
              "       0.019103637,\n",
              "       0.01667965,\n",
              "       0.049239688,\n",
              "       -0.0043893815,\n",
              "       -0.010672093,\n",
              "       -0.004117502,\n",
              "       0.0043893815,\n",
              "       0.0076257316,\n",
              "       -0.020400798,\n",
              "       -0.01856643,\n",
              "       -0.014386689,\n",
              "       -0.01269645,\n",
              "       0.022195857,\n",
              "       -0.010469003,\n",
              "       -0.0012865147,\n",
              "       -0.016915496,\n",
              "       0.0067937146,\n",
              "       0.036268085,\n",
              "       -0.034721974,\n",
              "       0.021134544,\n",
              "       0.03210145,\n",
              "       -0.0006203277,\n",
              "       -0.021226263,\n",
              "       -0.006076345,\n",
              "       -0.0061909934,\n",
              "       0.010999659,\n",
              "       0.014019815,\n",
              "       -0.025930109,\n",
              "       -0.012761963,\n",
              "       0.042347703,\n",
              "       -0.025825286,\n",
              "       0.0014101707,\n",
              "       -0.011327225,\n",
              "       0.016142443,\n",
              "       -0.0071474854,\n",
              "       -6.22375e-05,\n",
              "       0.00012641992,\n",
              "       -0.0087460065,\n",
              "       -0.011523765,\n",
              "       -0.01100621,\n",
              "       -0.019391894,\n",
              "       0.016404495,\n",
              "       -0.019784974,\n",
              "       -0.024999822,\n",
              "       0.017452706,\n",
              "       -0.007304717,\n",
              "       0.011392738,\n",
              "       -0.02942851,\n",
              "       0.006741304,\n",
              "       -0.0023306306,\n",
              "       -0.03540331,\n",
              "       -0.006672515,\n",
              "       0.00027638362,\n",
              "       0.029376099,\n",
              "       -0.00095321645,\n",
              "       0.022877194,\n",
              "       -0.0026958664,\n",
              "       0.009112881,\n",
              "       0.028694764,\n",
              "       0.012080627,\n",
              "       0.03197042,\n",
              "       -0.01653552,\n",
              "       -0.025130847,\n",
              "       -0.016050724,\n",
              "       0.0024747595,\n",
              "       0.0139411995,\n",
              "       0.0002518162,\n",
              "       -0.007737104,\n",
              "       -0.007016459,\n",
              "       -0.004995378,\n",
              "       -0.017374089,\n",
              "       0.027070036,\n",
              "       -0.009591126,\n",
              "       0.00323635,\n",
              "       -0.03356894,\n",
              "       -0.011759612,\n",
              "       0.011943049,\n",
              "       -0.0005269715,\n",
              "       -0.026991421,\n",
              "       0.030214667,\n",
              "       -0.026821086,\n",
              "       0.015500413,\n",
              "       -0.0039176866,\n",
              "       0.012709552,\n",
              "       0.0070688697,\n",
              "       0.011536867,\n",
              "       -0.029638153,\n",
              "       -0.033464123,\n",
              "       -0.008235004,\n",
              "       0.0114517,\n",
              "       -0.021580035,\n",
              "       -0.0033297061,\n",
              "       -0.010999659,\n",
              "       0.010914492,\n",
              "       0.014032918,\n",
              "       -0.012309922,\n",
              "       0.009538716,\n",
              "       -0.0045433375,\n",
              "       0.0041895662,\n",
              "       -0.017059626,\n",
              "       -0.02126557,\n",
              "       0.015605235,\n",
              "       0.025930109,\n",
              "       -0.019614639,\n",
              "       0.037683167,\n",
              "       -0.003350998,\n",
              "       -0.0031544585,\n",
              "       -0.007154037,\n",
              "       0.024043329,\n",
              "       0.014923898,\n",
              "       0.01867125,\n",
              "       -0.011746509,\n",
              "       -0.01927397,\n",
              "       -0.028563736,\n",
              "       -0.0035573645,\n",
              "       -0.02354543,\n",
              "       0.008398787,\n",
              "       0.0015428349,\n",
              "       -0.009420792,\n",
              "       -0.013849481,\n",
              "       0.011025865,\n",
              "       -0.013914995,\n",
              "       -0.0083136195,\n",
              "       0.0015297323,\n",
              "       -0.028249273,\n",
              "       -0.009820422,\n",
              "       0.035429515,\n",
              "       0.0034689216,\n",
              "       -0.009420792,\n",
              "       -0.020977313,\n",
              "       -0.0060141077,\n",
              "       0.017452706,\n",
              "       0.010999659,\n",
              "       -0.016994113,\n",
              "       -0.028956816,\n",
              "       -0.014308074,\n",
              "       0.0110979285,\n",
              "       0.033490326,\n",
              "       0.01010868,\n",
              "       0.02803963,\n",
              "       -0.004690742,\n",
              "       0.036949422,\n",
              "       0.033437915,\n",
              "       -0.009964551,\n",
              "       0.018592633,\n",
              "       -0.012879887,\n",
              "       0.014583229,\n",
              "       -0.035115052,\n",
              "       0.009872833,\n",
              "       0.033464123,\n",
              "       0.004834871,\n",
              "       0.0041502584,\n",
              "       0.0070623183,\n",
              "       0.0035868455,\n",
              "       0.016325878,\n",
              "       -0.0087460065,\n",
              "       -0.02279858,\n",
              "       -0.028983021,\n",
              "       -0.0015911508,\n",
              "       -0.008202247,\n",
              "       -0.0012185448,\n",
              "       -0.009892487,\n",
              "       -0.008287414,\n",
              "       -0.035272285,\n",
              "       -0.020754568,\n",
              "       0.031682163,\n",
              "       0.021920703,\n",
              "       0.010364181,\n",
              "       -0.012113383,\n",
              "       0.010128334,\n",
              "       -0.02171106,\n",
              "       0.012919195,\n",
              "       -0.00231589,\n",
              "       -0.014701152,\n",
              "       -0.031786986,\n",
              "       -0.013849481,\n",
              "       -0.0011825125,\n",
              "       0.009938346,\n",
              "       -0.005123129,\n",
              "       -0.019234663,\n",
              "       -0.009971103,\n",
              "       -0.0068002655,\n",
              "       0.009885935,\n",
              "       -0.021580035,\n",
              "       0.0029742974,\n",
              "       0.0013135388,\n",
              "       0.0056406828,\n",
              "       -0.021933805,\n",
              "       -0.021435905,\n",
              "       -0.016103134,\n",
              "       -0.015448002,\n",
              "       -0.057127472,\n",
              "       -0.035219874,\n",
              "       0.0068133683,\n",
              "       0.036713574,\n",
              "       -0.030529132,\n",
              "       0.02932369,\n",
              "       -0.0021750368,\n",
              "       -0.035246078,\n",
              "       0.006158237,\n",
              "       0.009630434,\n",
              "       0.028406505,\n",
              "       0.01259818,\n",
              "       0.0035049538,\n",
              "       0.021868292,\n",
              "       -0.0067609577,\n",
              "       -0.03778799,\n",
              "       -0.00036585005,\n",
              "       0.00433042,\n",
              "       0.0055948235,\n",
              "       -0.00605014,\n",
              "       0.019549126,\n",
              "       0.007724001,\n",
              "       -0.035979826,\n",
              "       0.04093262,\n",
              "       0.007835373,\n",
              "       -0.013482608,\n",
              "       -0.020741466,\n",
              "       0.012716104,\n",
              "       -0.031891804,\n",
              "       0.020099437,\n",
              "       -0.018998815,\n",
              "       0.0015371025,\n",
              "       0.016207956,\n",
              "       0.010894838,\n",
              "       0.00043320574,\n",
              "       0.015369386,\n",
              "       0.0022716688,\n",
              "       -0.03763076,\n",
              "       -0.0044811,\n",
              "       0.006715099,\n",
              "       -0.019719461,\n",
              "       -0.0146225365,\n",
              "       -0.02230068,\n",
              "       -0.019837383,\n",
              "       -0.012735758,\n",
              "       -0.017871989,\n",
              "       -0.029061636,\n",
              "       0.013214004,\n",
              "       0.007573321,\n",
              "       0.011143788,\n",
              "       -0.011425494,\n",
              "       -0.0052410527,\n",
              "       0.008405338,\n",
              "       -0.011589278,\n",
              "       -0.013980508,\n",
              "       -0.0031872152,\n",
              "       -0.0011997097,\n",
              "       0.030109847,\n",
              "       -0.029795384,\n",
              "       0.0013086253,\n",
              "       -0.00020421679,\n",
              "       0.023676455,\n",
              "       0.010835877,\n",
              "       -0.011739958,\n",
              "       -0.004353349,\n",
              "       -0.00605014,\n",
              "       -0.010966903,\n",
              "       -0.012866784,\n",
              "       0.020977313,\n",
              "       0.001713169,\n",
              "       -0.029533332,\n",
              "       -0.016666546,\n",
              "       -0.009335625,\n",
              "       0.011576175,\n",
              "       -0.01952292,\n",
              "       0.0011415668,\n",
              "       -0.02030908,\n",
              "       -0.018736763,\n",
              "       -0.01518595,\n",
              "       0.025602542,\n",
              "       -0.006806817,\n",
              "       0.00423215,\n",
              "       0.0042387014,\n",
              "       -0.022326885,\n",
              "       -0.011163442,\n",
              "       0.015277668,\n",
              "       -0.035219874,\n",
              "       0.009558369,\n",
              "       -0.017976811,\n",
              "       0.016732061,\n",
              "       -0.015461105,\n",
              "       -0.00045081243,\n",
              "       -0.0020816806,\n",
              "       -0.025379797,\n",
              "       0.009892487,\n",
              "       0.00014832588,\n",
              "       -0.022038626,\n",
              "       -0.023584737,\n",
              "       0.004422138,\n",
              "       0.02982159,\n",
              "       -0.016614137,\n",
              "       -0.00915874,\n",
              "       0.021973113,\n",
              "       0.047431525,\n",
              "       0.016496213,\n",
              "       -0.015303873,\n",
              "       -0.028196864,\n",
              "       0.032206267,\n",
              "       0.013666045,\n",
              "       -0.013666045,\n",
              "       0.009604229,\n",
              "       -0.03126288,\n",
              "       0.015133539,\n",
              "       0.0029824865,\n",
              "       0.010796568,\n",
              "       0.026034929,\n",
              "       -0.016168647,\n",
              "       -0.023126144,\n",
              "       -0.011556521,\n",
              "       0.04242632,\n",
              "       -0.013888789,\n",
              "       -0.010305219,\n",
              "       -0.014766666,\n",
              "       -0.027725168,\n",
              "       -0.015382489,\n",
              "       -0.0025681157,\n",
              "       -0.023414403,\n",
              "       -0.0438152,\n",
              "       0.012336127,\n",
              "       0.033254478,\n",
              "       0.007638834,\n",
              "       0.008621532,\n",
              "       -0.023925405,\n",
              "       -0.04855835,\n",
              "       0.018946406,\n",
              "       -0.017767169,\n",
              "       -0.043186273,\n",
              "       -0.013030567,\n",
              "       -0.0184223,\n",
              "       0.04027749,\n",
              "       0.005201745,\n",
              "       -0.011019313,\n",
              "       -0.024921205,\n",
              "       0.026244571,\n",
              "       -0.03912446,\n",
              "       -0.008359479,\n",
              "       0.003868552,\n",
              "       0.012617834,\n",
              "       0.023060631,\n",
              "       0.0064858026,\n",
              "       0.015657645,\n",
              "       0.0119496,\n",
              "       -0.007678142,\n",
              "       0.010521413,\n",
              "       -0.04336971,\n",
              "       -0.018579531,\n",
              "       -0.035036437,\n",
              "       -0.005083821,\n",
              "       -0.021278674,\n",
              "       -0.0048676278,\n",
              "       -0.033464123,\n",
              "       -0.0067609577,\n",
              "       0.052541554,\n",
              "       -0.0388362,\n",
              "       -0.014661845,\n",
              "       -0.0016967908,\n",
              "       -0.042635962,\n",
              "       -0.019352587,\n",
              "       -0.013403992,\n",
              "       -2.159887e-05,\n",
              "       0.0006907543,\n",
              "       -0.0012029853,\n",
              "       0.005601375,\n",
              "       -0.010285566,\n",
              "       -0.013993611,\n",
              "       0.014360484,\n",
              "       -0.0015330078,\n",
              "       0.0066004507,\n",
              "       -0.023283375,\n",
              "       0.010377284,\n",
              "       -0.00021905961,\n",
              "       0.032782786,\n",
              "       0.0052803606,\n",
              "       0.0072064474,\n",
              "       0.010410041,\n",
              "       -0.007599526,\n",
              "       0.026807984,\n",
              "       -0.005945319,\n",
              "       -0.02519636,\n",
              "       0.024685359,\n",
              "       -0.01717755,\n",
              "       -0.019234663,\n",
              "       -0.013836379,\n",
              "       0.008647737,\n",
              "       -0.012676796,\n",
              "       0.0031446316,\n",
              "       -0.0118382275,\n",
              "       -0.024501922,\n",
              "       0.025065335,\n",
              "       -0.010095578,\n",
              "       0.026624547,\n",
              "       -0.035927415,\n",
              "       0.0024387273,\n",
              "       -0.0067478553,\n",
              "       -0.014504613,\n",
              "       -0.026860395,\n",
              "       0.027646553,\n",
              "       0.0059846267,\n",
              "       -0.01598521,\n",
              "       0.0030267078,\n",
              "       -0.0020047026,\n",
              "       0.024187457,\n",
              "       -0.0017000664,\n",
              "       -0.00017657843,\n",
              "       -0.014832179,\n",
              "       -0.037447322,\n",
              "       -0.011340328,\n",
              "       0.0052607064,\n",
              "       -0.021737266,\n",
              "       -0.02155383,\n",
              "       -0.020885594,\n",
              "       -0.0042190473,\n",
              "       -0.013495711,\n",
              "       -0.0039602704,\n",
              "       0.1723258,\n",
              "       -0.0062565063,\n",
              "       0.015369386,\n",
              "       0.021999318,\n",
              "       -0.015919697,\n",
              "       0.027305884,\n",
              "       0.025497722,\n",
              "       -0.0039013086,\n",
              "       0.0067937146,\n",
              "       0.00077919714,\n",
              "       -0.0015411971,\n",
              "       0.02654593,\n",
              "       -0.033726174,\n",
              "       0.0066692396,\n",
              "       -0.005103475,\n",
              "       0.0015493862,\n",
              "       -0.012670245,\n",
              "       0.010213501,\n",
              "       -0.004549889,\n",
              "       0.027751373,\n",
              "       -0.001560851,\n",
              "       -0.008405338,\n",
              "       0.008614981,\n",
              "       -0.006633207,\n",
              "       0.036923215,\n",
              "       -0.0068330225,\n",
              "       0.0005867522,\n",
              "       -0.0011145426,\n",
              "       2.3006378e-05,\n",
              "       0.0014470218,\n",
              "       -0.014478408,\n",
              "       -0.029978821,\n",
              "       0.0007828822,\n",
              "       0.016194852,\n",
              "       -0.016155545,\n",
              "       -0.013246761,\n",
              "       -0.045728184,\n",
              "       0.028406505,\n",
              "       0.019051226,\n",
              "       0.019391894,\n",
              "       0.009184944,\n",
              "       -0.023073735,\n",
              "       0.011274815,\n",
              "       -0.022628244,\n",
              "       -0.0017524769,\n",
              "       -0.0046841907,\n",
              "       ...]},\n",
              "     'answer': 'Antelope',\n",
              "     'category': 'ANIMALS',\n",
              "     'question': 'Weighing around a ton, the eland is the largest species of this animal in Africa'}]}}}"
            ]
          },
          "metadata": {},
          "execution_count": 11
        }
      ]
    },
    {
      "cell_type": "code",
      "source": [
        "result['data']['Get']['Question'][0]['question']"
      ],
      "metadata": {
        "colab": {
          "base_uri": "https://localhost:8080/",
          "height": 35
        },
        "id": "OvAdGSm_jR-e",
        "outputId": "b03b43bd-a0dd-4ed1-bad2-54b2722c43da"
      },
      "execution_count": null,
      "outputs": [
        {
          "output_type": "execute_result",
          "data": {
            "text/plain": [
              "'Weighing around a ton, the eland is the largest species of this animal in Africa'"
            ],
            "application/vnd.google.colaboratory.intrinsic+json": {
              "type": "string"
            }
          },
          "metadata": {},
          "execution_count": 12
        }
      ]
    },
    {
      "cell_type": "code",
      "source": [
        "\n",
        "result['data']['Get']['Question'][0]['answer']"
      ],
      "metadata": {
        "colab": {
          "base_uri": "https://localhost:8080/",
          "height": 35
        },
        "id": "v7P1Uz8wjG8f",
        "outputId": "53bfa1b5-75fd-4999-9dc9-c37438b0c282"
      },
      "execution_count": null,
      "outputs": [
        {
          "output_type": "execute_result",
          "data": {
            "text/plain": [
              "'Antelope'"
            ],
            "application/vnd.google.colaboratory.intrinsic+json": {
              "type": "string"
            }
          },
          "metadata": {},
          "execution_count": 13
        }
      ]
    },
    {
      "cell_type": "code",
      "source": [
        "len(result['data']['Get']['Question'][0]['_additional']['vector'])"
      ],
      "metadata": {
        "colab": {
          "base_uri": "https://localhost:8080/"
        },
        "id": "uI6iQDM6jcld",
        "outputId": "0cdc2902-1b58-42b9-887e-7e1a5b5a5cc3"
      },
      "execution_count": null,
      "outputs": [
        {
          "output_type": "execute_result",
          "data": {
            "text/plain": [
              "1536"
            ]
          },
          "metadata": {},
          "execution_count": 14
        }
      ]
    },
    {
      "cell_type": "code",
      "source": [
        "result['data']['Get']['Question'][0]['_additional']['vector']"
      ],
      "metadata": {
        "id": "99tr1XRNjrAC"
      },
      "execution_count": null,
      "outputs": []
    },
    {
      "cell_type": "code",
      "source": [
        "import json"
      ],
      "metadata": {
        "id": "Ev3kPZy_tUDZ"
      },
      "execution_count": null,
      "outputs": []
    },
    {
      "cell_type": "code",
      "source": [
        "def json_print(json_data):\n",
        "    import json  # Import the 'json' module\n",
        "    print(json.dumps(json_data, indent=2))  # Pretty-print the JSON\n"
      ],
      "metadata": {
        "id": "xqrmYZVyocdW"
      },
      "execution_count": null,
      "outputs": []
    },
    {
      "cell_type": "code",
      "source": [
        "json_print(data)"
      ],
      "metadata": {
        "id": "07TFSuJHte_0",
        "outputId": "5867b979-52f9-446e-ff93-4573c60cc497",
        "colab": {
          "base_uri": "https://localhost:8080/"
        }
      },
      "execution_count": null,
      "outputs": [
        {
          "output_type": "stream",
          "name": "stdout",
          "text": [
            "[\n",
            "  {\n",
            "    \"Category\": \"SCIENCE\",\n",
            "    \"Question\": \"This organ removes excess glucose from the blood & stores it as glycogen\",\n",
            "    \"Answer\": \"Liver\"\n",
            "  },\n",
            "  {\n",
            "    \"Category\": \"ANIMALS\",\n",
            "    \"Question\": \"It's the only living mammal in the order Proboseidea\",\n",
            "    \"Answer\": \"Elephant\"\n",
            "  },\n",
            "  {\n",
            "    \"Category\": \"ANIMALS\",\n",
            "    \"Question\": \"The gavial looks very much like a crocodile except for this bodily feature\",\n",
            "    \"Answer\": \"the nose or snout\"\n",
            "  },\n",
            "  {\n",
            "    \"Category\": \"ANIMALS\",\n",
            "    \"Question\": \"Weighing around a ton, the eland is the largest species of this animal in Africa\",\n",
            "    \"Answer\": \"Antelope\"\n",
            "  },\n",
            "  {\n",
            "    \"Category\": \"ANIMALS\",\n",
            "    \"Question\": \"Heaviest of all poisonous snakes is this North American rattlesnake\",\n",
            "    \"Answer\": \"the diamondback rattler\"\n",
            "  },\n",
            "  {\n",
            "    \"Category\": \"SCIENCE\",\n",
            "    \"Question\": \"2000 news: the Gunnison sage grouse isn't just another northern sage grouse, but a new one of this classification\",\n",
            "    \"Answer\": \"species\"\n",
            "  },\n",
            "  {\n",
            "    \"Category\": \"SCIENCE\",\n",
            "    \"Question\": \"A metal that is ductile can be pulled into this while cold & under pressure\",\n",
            "    \"Answer\": \"wire\"\n",
            "  },\n",
            "  {\n",
            "    \"Category\": \"SCIENCE\",\n",
            "    \"Question\": \"In 1953 Watson & Crick built a model of the molecular structure of this, the gene-carrying substance\",\n",
            "    \"Answer\": \"DNA\"\n",
            "  },\n",
            "  {\n",
            "    \"Category\": \"SCIENCE\",\n",
            "    \"Question\": \"Changes in the tropospheric layer of this are what gives us weather\",\n",
            "    \"Answer\": \"the atmosphere\"\n",
            "  },\n",
            "  {\n",
            "    \"Category\": \"SCIENCE\",\n",
            "    \"Question\": \"In 70-degree air, a plane traveling at about 1,130 feet per second breaks it\",\n",
            "    \"Answer\": \"Sound barrier\"\n",
            "  }\n",
            "]\n"
          ]
        }
      ]
    },
    {
      "cell_type": "code",
      "source": [
        "json_print(client.query.aggregate(\"Question\").with_meta_count().do())"
      ],
      "metadata": {
        "id": "vkBmxgxxnKMS",
        "outputId": "82fec730-384f-4ac8-a445-1436a5a0cc36",
        "colab": {
          "base_uri": "https://localhost:8080/"
        }
      },
      "execution_count": null,
      "outputs": [
        {
          "output_type": "stream",
          "name": "stdout",
          "text": [
            "{\n",
            "  \"data\": {\n",
            "    \"Aggregate\": {\n",
            "      \"Question\": [\n",
            "        {\n",
            "          \"meta\": {\n",
            "            \"count\": 10\n",
            "          }\n",
            "        }\n",
            "      ]\n",
            "    }\n",
            "  }\n",
            "}\n"
          ]
        }
      ]
    },
    {
      "cell_type": "code",
      "source": [
        "json_print(client.query.get(\"Question\",[\"question\",\"answer\"]).with_limit(1).do())"
      ],
      "metadata": {
        "id": "Cd_Rhxkkoxvf",
        "outputId": "92dcbecc-65e5-4c24-f4b3-3022ea06e5b7",
        "colab": {
          "base_uri": "https://localhost:8080/"
        }
      },
      "execution_count": null,
      "outputs": [
        {
          "output_type": "stream",
          "name": "stdout",
          "text": [
            "{\n",
            "  \"data\": {\n",
            "    \"Get\": {\n",
            "      \"Question\": [\n",
            "        {\n",
            "          \"answer\": \"Elephant\",\n",
            "          \"question\": \"It's the only living mammal in the order Proboseidea\"\n",
            "        }\n",
            "      ]\n",
            "    }\n",
            "  }\n",
            "}\n"
          ]
        }
      ]
    },
    {
      "cell_type": "markdown",
      "metadata": {
        "id": "xCU70ljkkMtU"
      },
      "source": [
        "#### Specify \"custom\" vectors (i.e. generated outside of Weaviate)"
      ]
    },
    {
      "cell_type": "markdown",
      "metadata": {
        "id": "1GL2QgZDkMtU"
      },
      "source": [
        "### Queries"
      ]
    },
    {
      "cell_type": "markdown",
      "metadata": {
        "id": "nNyNpYQWkMtV"
      },
      "source": [
        "#### Semantic search\n",
        "\n",
        "Let's try a similarity search. We'll use nearText search to look for quiz objects most similar to biology."
      ]
    },
    {
      "cell_type": "code",
      "execution_count": null,
      "metadata": {
        "id": "u8LNXC3lkMtV",
        "outputId": "8ae50ff3-cc10-45b8-e9f2-5aabfe2b6c32",
        "colab": {
          "base_uri": "https://localhost:8080/"
        }
      },
      "outputs": [
        {
          "output_type": "stream",
          "name": "stdout",
          "text": [
            "{\n",
            "    \"data\": {\n",
            "        \"Get\": {\n",
            "            \"Question\": [\n",
            "                {\n",
            "                    \"answer\": \"DNA\",\n",
            "                    \"category\": \"SCIENCE\",\n",
            "                    \"question\": \"In 1953 Watson & Crick built a model of the molecular structure of this, the gene-carrying substance\"\n",
            "                },\n",
            "                {\n",
            "                    \"answer\": \"species\",\n",
            "                    \"category\": \"SCIENCE\",\n",
            "                    \"question\": \"2000 news: the Gunnison sage grouse isn't just another northern sage grouse, but a new one of this classification\"\n",
            "                },\n",
            "                {\n",
            "                    \"answer\": \"the nose or snout\",\n",
            "                    \"category\": \"ANIMALS\",\n",
            "                    \"question\": \"The gavial looks very much like a crocodile except for this bodily feature\"\n",
            "                }\n",
            "            ]\n",
            "        }\n",
            "    }\n",
            "}\n"
          ]
        }
      ],
      "source": [
        "nearText = {\"concepts\": [\"biology\"]}\n",
        "\n",
        "response = (\n",
        "    client.query\n",
        "    .get(\"Question\", [\"question\", \"answer\", \"category\"])\n",
        "    .with_near_text(nearText)\n",
        "    .with_limit(2)\n",
        "    .do()\n",
        ")\n",
        "\n",
        "print(json.dumps(response, indent=4))"
      ]
    },
    {
      "cell_type": "markdown",
      "metadata": {
        "id": "BZQpYWQkkMtV"
      },
      "source": [
        "The response includes a list of top 2 (due to the limit set) objects whose vectors are most similar to the word biology.\n",
        "\n",
        "Notice that even though the word biology does not appear anywhere, Weaviate returns biology-related entries.\n",
        "\n",
        "This example shows why vector searches are powerful. Vectorized data objects allow for searches based on degrees of similarity, as shown here."
      ]
    },
    {
      "cell_type": "markdown",
      "metadata": {
        "id": "vWafBeRlkMtV"
      },
      "source": [
        "#### Semantic search with a filter\n",
        "You can add a Boolean filter to your example. For example, let's run the same search, but only look in objects that have a \"category\" value of \"ANIMALS\"."
      ]
    },
    {
      "cell_type": "code",
      "execution_count": null,
      "metadata": {
        "id": "umLaYP7ekMtV",
        "outputId": "d58efb05-545d-4649-c613-042600030db2",
        "colab": {
          "base_uri": "https://localhost:8080/"
        }
      },
      "outputs": [
        {
          "output_type": "stream",
          "name": "stdout",
          "text": [
            "{\n",
            "    \"data\": {\n",
            "        \"Get\": {\n",
            "            \"Question\": [\n",
            "                {\n",
            "                    \"_additional\": {\n",
            "                        \"distance\": 0.22143602\n",
            "                    },\n",
            "                    \"answer\": \"the nose or snout\",\n",
            "                    \"category\": \"ANIMALS\",\n",
            "                    \"question\": \"The gavial looks very much like a crocodile except for this bodily feature\"\n",
            "                }\n",
            "            ]\n",
            "        }\n",
            "    }\n",
            "}\n"
          ]
        }
      ],
      "source": [
        "nearText = {\"concepts\": [\"biology\"]}\n",
        "\n",
        "response = (\n",
        "    client.query\n",
        "    .get(\"Question\", [\"question\", \"answer\", \"category\",   \"_additional { distance }\" ])\n",
        "    .with_near_text(nearText)\n",
        "    .with_where({\n",
        "        \"path\": [\"category\"],\n",
        "        \"operator\": \"Equal\",\n",
        "        \"valueText\": \"ANIMALS\"\n",
        "    })\n",
        "    .with_limit(2)\n",
        "    .do()\n",
        ")\n",
        "\n",
        "print(json.dumps(response, indent=4))"
      ]
    },
    {
      "cell_type": "code",
      "source": [],
      "metadata": {
        "id": "MyIJyeG_0oTc"
      },
      "execution_count": null,
      "outputs": []
    },
    {
      "cell_type": "markdown",
      "metadata": {
        "id": "u0TBbrDnkMtV"
      },
      "source": [
        "The response includes a list of top 2 (due to the limit set) objects whose vectors are most similar to the word biology - but only from the \"ANIMALS\" category.\n",
        "\n",
        "Using a Boolean filter allows you to combine the flexibility of vector search with the precision of where filters."
      ]
    },
    {
      "cell_type": "markdown",
      "metadata": {
        "id": "S7r0K5rvkMtV"
      },
      "source": [
        "#### Generative search (single prompt)\n",
        "\n",
        "Next, let's try a generative search, where search results are processed with a large language model (LLM).\n",
        "\n",
        "Here, we use a `single prompt` query, and the model to explain each answer in plain terms."
      ]
    },
    {
      "cell_type": "code",
      "execution_count": null,
      "metadata": {
        "id": "GZqpC3VIkMtV",
        "outputId": "5ee64251-0df6-4120-cfaf-72fd684d9df0",
        "colab": {
          "base_uri": "https://localhost:8080/"
        }
      },
      "outputs": [
        {
          "output_type": "stream",
          "name": "stdout",
          "text": [
            "{\n",
            "    \"data\": {\n",
            "        \"Get\": {\n",
            "            \"Question\": [\n",
            "                {\n",
            "                    \"_additional\": {\n",
            "                        \"generate\": {\n",
            "                            \"error\": null,\n",
            "                            \"singleResult\": \"DNA is like a set of instructions that tells our bodies how to grow and work. It's like a recipe book that tells our cells what to do and how to make us who we are. Just like how a recipe tells you how to make a cake, DNA tells our bodies how to make us unique and special.\"\n",
            "                        }\n",
            "                    },\n",
            "                    \"answer\": \"DNA\",\n",
            "                    \"category\": \"SCIENCE\",\n",
            "                    \"question\": \"In 1953 Watson & Crick built a model of the molecular structure of this, the gene-carrying substance\"\n",
            "                }\n",
            "            ]\n",
            "        }\n",
            "    }\n",
            "}\n"
          ]
        }
      ],
      "source": [
        "nearText = {\"concepts\": [\"biology\"]}\n",
        "\n",
        "response = (\n",
        "    client.query\n",
        "    .get(\"Question\", [\"question\", \"answer\", \"category\"])\n",
        "    .with_near_text(nearText)\n",
        "    .with_generate(single_prompt=\"Explain {answer} as you might to a five-year-old.\")\n",
        "    .with_limit(1)\n",
        "    .do()\n",
        ")\n",
        "\n",
        "print(json.dumps(response, indent=4))"
      ]
    },
    {
      "cell_type": "markdown",
      "metadata": {
        "id": "_XjH-B-TkMtW"
      },
      "source": [
        "We see that Weaviate has retrieved the same results as before. But now it includes an additional, generated text with a plain-language explanation of each answer."
      ]
    },
    {
      "cell_type": "markdown",
      "metadata": {
        "id": "Hw9maIuAkMtW"
      },
      "source": [
        "#### Generative search (grouped task)\n",
        "\n",
        "In the next example, we will use a grouped task prompt instead to combine all search results and send them to the LLM with a prompt. We ask the LLM to write a tweet about all of these search results."
      ]
    },
    {
      "cell_type": "code",
      "execution_count": null,
      "metadata": {
        "id": "f5qqwbtCkMtW",
        "outputId": "8c3178bf-ed27-4a04-bb1a-eb1dc77de5d1",
        "colab": {
          "base_uri": "https://localhost:8080/"
        }
      },
      "outputs": [
        {
          "output_type": "stream",
          "name": "stdout",
          "text": [
            "Did you know that in 1953 Watson & Crick discovered the molecular structure of DNA? 🔬🧬 #Science #DNA #WatsonAndCrick\n"
          ]
        }
      ],
      "source": [
        "response = (\n",
        "    client.query\n",
        "    .get(\"Question\", [\"question\", \"answer\", \"category\"])\n",
        "    .with_near_text({\"concepts\": [\"biology\"]})\n",
        "    .with_generate(grouped_task=\"Write a tweet with emojis about these facts.\")\n",
        "    .with_limit(1)\n",
        "    .do()\n",
        ")\n",
        "\n",
        "print(response[\"data\"][\"Get\"][\"Question\"][0][\"_additional\"][\"generate\"][\"groupedResult\"])"
      ]
    },
    {
      "cell_type": "markdown",
      "metadata": {
        "id": "ONha7BjmkMtW"
      },
      "source": [
        "Generative search sends retrieved data from Weaviate to a large language model, or LLM. This allows you to go beyond simple data retrieval, but transform the data into a more useful form, without ever leaving Weaviate."
      ]
    },
    {
      "cell_type": "markdown",
      "metadata": {
        "id": "L-stEFylkMtW"
      },
      "source": [
        "Well done! In just a few short minutes, you have:\n",
        "\n",
        "- Created your own cloud-based vector database with Weaviate,\n",
        "- Populated it with data objects,\n",
        "    - Using an inference API, or\n",
        "    - Using custom vectors,\n",
        "- Performed searches, including:\n",
        "    - Semantic search,\n",
        "    - Sementic search with a filter and\n",
        "    - Generative search."
      ]
    },
    {
      "cell_type": "markdown",
      "metadata": {
        "id": "FOeXklf8kMtW"
      },
      "source": [
        "## Next\n",
        "\n",
        "You can do much more with Weaviate. We suggest trying:\n",
        "\n",
        "- Examples from our [search how-to](https://weaviate.io/developers/weaviate/search) guides for [keyword](https://weaviate.io/developers/weaviate/search/bm25), [similarity](https://weaviate.io/developers/weaviate/search/similarity), [hybrid](https://weaviate.io/developers/weaviate/search/hybrid), [generative](https://weaviate.io/developers/weaviate/search/generative) searches and [filters](https://weaviate.io/developers/weaviate/search/filters) or\n",
        "- Learning [how to manage data](https://weaviate.io/developers/weaviate/manage-data), like [reading](https://weaviate.io/developers/weaviate/manage-data/read), [batch importing](https://weaviate.io/developers/weaviate/manage-data/import), [updating](https://weaviate.io/developers/weaviate/manage-data/update), [deleting](https://weaviate.io/developers/weaviate/manage-data/delete) objects or [bulk exporting](https://weaviate.io/developers/weaviate/manage-data/read-all-objects) data.\n",
        "\n",
        "For more holistic learning, try <i class=\"fa-solid fa-graduation-cap\"></i> [Weaviate Academy](https://weaviate.io/developers/academy). We have built free courses for you to learn about Weaviate and the world of vector search.\n",
        "\n",
        "You can also try a larger, [1,000 row](https://raw.githubusercontent.com/databyjp/wv_demo_uploader/main/weaviate_datasets/data/jeopardy_1k.json) version of the Jeopardy! dataset, or [this tiny set of 50 wine reviews](https://raw.githubusercontent.com/databyjp/wv_demo_uploader/main/weaviate_datasets/data/winemag_tiny.csv)."
      ]
    },
    {
      "cell_type": "markdown",
      "metadata": {
        "id": "95tf73S4kMtW"
      },
      "source": []
    }
  ],
  "metadata": {
    "kernelspec": {
      "display_name": "base",
      "language": "python",
      "name": "python3"
    },
    "language_info": {
      "codemirror_mode": {
        "name": "ipython",
        "version": 3
      },
      "file_extension": ".py",
      "mimetype": "text/x-python",
      "name": "python",
      "nbconvert_exporter": "python",
      "pygments_lexer": "ipython3",
      "version": "3.10.12"
    },
    "orig_nbformat": 4,
    "colab": {
      "provenance": [],
      "name": "weavite_vector.ipynb",
      "include_colab_link": true
    }
  },
  "nbformat": 4,
  "nbformat_minor": 0
}